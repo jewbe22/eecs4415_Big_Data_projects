{
  "nbformat": 4,
  "nbformat_minor": 0,
  "metadata": {
    "colab": {
      "provenance": [],
      "machine_shape": "hm",
      "include_colab_link": true
    },
    "kernelspec": {
      "name": "python3",
      "display_name": "Python 3"
    }
  },
  "cells": [
    {
      "cell_type": "markdown",
      "metadata": {
        "id": "view-in-github",
        "colab_type": "text"
      },
      "source": [
        "<a href=\"https://colab.research.google.com/github/jewbe22/eecs4415_Big_data/blob/main/project_2/Task_6_Exploring_Big_Data_with_Embeddings.ipynb\" target=\"_parent\"><img src=\"https://colab.research.google.com/assets/colab-badge.svg\" alt=\"Open In Colab\"/></a>"
      ]
    },
    {
      "cell_type": "markdown",
      "metadata": {
        "id": "kPt5q27L5557"
      },
      "source": [
        "# EECS 4415 - Part 6\n",
        "## Exploring Big Data with Embedding Techniques"
      ]
    },
    {
      "cell_type": "markdown",
      "metadata": {
        "id": "p0-YhEpP_Ds-"
      },
      "source": [
        "### Setup"
      ]
    },
    {
      "cell_type": "markdown",
      "metadata": {
        "id": "82kmj9fIVlq0"
      },
      "source": [
        "First of all, we install the [graph2vec library](https://github.com/VHRanger/graph2vec) which offers a fast implementation of the node2vec method.\n",
        "\n",
        "To learn how to implement fast random walks on graphs,  [read the blog post](https://www.singlelunch.com/2019/08/01/700x-faster-node2vec-models-fastest-random-walks-on-a-graph/) which explains some of the design choices behind this library."
      ]
    },
    {
      "cell_type": "code",
      "source": [
        "!python -m pip install 'csrgraph @ git+https://github.com/VHRanger/CSRGraph@f052c1cf128ab21d21a4710337dc7c1cd5658df7'\n",
        "!python -m pip install 'nodevectors @ git+https://github.com/aman0456/nodevectors@67e9af0506236be9aae6d460e96d4dec6329bcd2'"
      ],
      "metadata": {
        "id": "5XivxOcOKLvQ",
        "outputId": "32b21d31-4472-4319-9165-29c41c85e826",
        "colab": {
          "base_uri": "https://localhost:8080/"
        }
      },
      "execution_count": 1,
      "outputs": [
        {
          "output_type": "stream",
          "name": "stdout",
          "text": [
            "Collecting csrgraph@ git+https://github.com/VHRanger/CSRGraph@f052c1cf128ab21d21a4710337dc7c1cd5658df7\n",
            "  Using cached csrgraph-0.1.29-py3-none-any.whl\n",
            "Requirement already satisfied: networkx in /usr/local/lib/python3.10/dist-packages (from csrgraph@ git+https://github.com/VHRanger/CSRGraph@f052c1cf128ab21d21a4710337dc7c1cd5658df7) (3.4.2)\n",
            "Requirement already satisfied: numba in /usr/local/lib/python3.10/dist-packages (from csrgraph@ git+https://github.com/VHRanger/CSRGraph@f052c1cf128ab21d21a4710337dc7c1cd5658df7) (0.60.0)\n",
            "Requirement already satisfied: numpy in /usr/local/lib/python3.10/dist-packages (from csrgraph@ git+https://github.com/VHRanger/CSRGraph@f052c1cf128ab21d21a4710337dc7c1cd5658df7) (1.26.4)\n",
            "Requirement already satisfied: pandas in /usr/local/lib/python3.10/dist-packages (from csrgraph@ git+https://github.com/VHRanger/CSRGraph@f052c1cf128ab21d21a4710337dc7c1cd5658df7) (2.2.2)\n",
            "Requirement already satisfied: scipy in /usr/local/lib/python3.10/dist-packages (from csrgraph@ git+https://github.com/VHRanger/CSRGraph@f052c1cf128ab21d21a4710337dc7c1cd5658df7) (1.13.1)\n",
            "Requirement already satisfied: scikit-learn in /usr/local/lib/python3.10/dist-packages (from csrgraph@ git+https://github.com/VHRanger/CSRGraph@f052c1cf128ab21d21a4710337dc7c1cd5658df7) (1.5.2)\n",
            "Requirement already satisfied: tqdm in /usr/local/lib/python3.10/dist-packages (from csrgraph@ git+https://github.com/VHRanger/CSRGraph@f052c1cf128ab21d21a4710337dc7c1cd5658df7) (4.66.6)\n",
            "Requirement already satisfied: llvmlite<0.44,>=0.43.0dev0 in /usr/local/lib/python3.10/dist-packages (from numba->csrgraph@ git+https://github.com/VHRanger/CSRGraph@f052c1cf128ab21d21a4710337dc7c1cd5658df7) (0.43.0)\n",
            "Requirement already satisfied: python-dateutil>=2.8.2 in /usr/local/lib/python3.10/dist-packages (from pandas->csrgraph@ git+https://github.com/VHRanger/CSRGraph@f052c1cf128ab21d21a4710337dc7c1cd5658df7) (2.8.2)\n",
            "Requirement already satisfied: pytz>=2020.1 in /usr/local/lib/python3.10/dist-packages (from pandas->csrgraph@ git+https://github.com/VHRanger/CSRGraph@f052c1cf128ab21d21a4710337dc7c1cd5658df7) (2024.2)\n",
            "Requirement already satisfied: tzdata>=2022.7 in /usr/local/lib/python3.10/dist-packages (from pandas->csrgraph@ git+https://github.com/VHRanger/CSRGraph@f052c1cf128ab21d21a4710337dc7c1cd5658df7) (2024.2)\n",
            "Requirement already satisfied: joblib>=1.2.0 in /usr/local/lib/python3.10/dist-packages (from scikit-learn->csrgraph@ git+https://github.com/VHRanger/CSRGraph@f052c1cf128ab21d21a4710337dc7c1cd5658df7) (1.4.2)\n",
            "Requirement already satisfied: threadpoolctl>=3.1.0 in /usr/local/lib/python3.10/dist-packages (from scikit-learn->csrgraph@ git+https://github.com/VHRanger/CSRGraph@f052c1cf128ab21d21a4710337dc7c1cd5658df7) (3.5.0)\n",
            "Requirement already satisfied: six>=1.5 in /usr/local/lib/python3.10/dist-packages (from python-dateutil>=2.8.2->pandas->csrgraph@ git+https://github.com/VHRanger/CSRGraph@f052c1cf128ab21d21a4710337dc7c1cd5658df7) (1.16.0)\n",
            "Collecting nodevectors@ git+https://github.com/aman0456/nodevectors@67e9af0506236be9aae6d460e96d4dec6329bcd2\n",
            "  Using cached nodevectors-0.1.23-py3-none-any.whl\n",
            "Requirement already satisfied: csrgraph in /usr/local/lib/python3.10/dist-packages (from nodevectors@ git+https://github.com/aman0456/nodevectors@67e9af0506236be9aae6d460e96d4dec6329bcd2) (0.1.29)\n",
            "Requirement already satisfied: gensim in /usr/local/lib/python3.10/dist-packages (from nodevectors@ git+https://github.com/aman0456/nodevectors@67e9af0506236be9aae6d460e96d4dec6329bcd2) (4.3.3)\n",
            "Requirement already satisfied: networkx in /usr/local/lib/python3.10/dist-packages (from nodevectors@ git+https://github.com/aman0456/nodevectors@67e9af0506236be9aae6d460e96d4dec6329bcd2) (3.4.2)\n",
            "Requirement already satisfied: numba in /usr/local/lib/python3.10/dist-packages (from nodevectors@ git+https://github.com/aman0456/nodevectors@67e9af0506236be9aae6d460e96d4dec6329bcd2) (0.60.0)\n",
            "Requirement already satisfied: numpy in /usr/local/lib/python3.10/dist-packages (from nodevectors@ git+https://github.com/aman0456/nodevectors@67e9af0506236be9aae6d460e96d4dec6329bcd2) (1.26.4)\n",
            "Requirement already satisfied: pandas>=1.0 in /usr/local/lib/python3.10/dist-packages (from nodevectors@ git+https://github.com/aman0456/nodevectors@67e9af0506236be9aae6d460e96d4dec6329bcd2) (2.2.2)\n",
            "Requirement already satisfied: scipy in /usr/local/lib/python3.10/dist-packages (from nodevectors@ git+https://github.com/aman0456/nodevectors@67e9af0506236be9aae6d460e96d4dec6329bcd2) (1.13.1)\n",
            "Requirement already satisfied: scikit-learn in /usr/local/lib/python3.10/dist-packages (from nodevectors@ git+https://github.com/aman0456/nodevectors@67e9af0506236be9aae6d460e96d4dec6329bcd2) (1.5.2)\n",
            "Requirement already satisfied: python-dateutil>=2.8.2 in /usr/local/lib/python3.10/dist-packages (from pandas>=1.0->nodevectors@ git+https://github.com/aman0456/nodevectors@67e9af0506236be9aae6d460e96d4dec6329bcd2) (2.8.2)\n",
            "Requirement already satisfied: pytz>=2020.1 in /usr/local/lib/python3.10/dist-packages (from pandas>=1.0->nodevectors@ git+https://github.com/aman0456/nodevectors@67e9af0506236be9aae6d460e96d4dec6329bcd2) (2024.2)\n",
            "Requirement already satisfied: tzdata>=2022.7 in /usr/local/lib/python3.10/dist-packages (from pandas>=1.0->nodevectors@ git+https://github.com/aman0456/nodevectors@67e9af0506236be9aae6d460e96d4dec6329bcd2) (2024.2)\n",
            "Requirement already satisfied: tqdm in /usr/local/lib/python3.10/dist-packages (from csrgraph->nodevectors@ git+https://github.com/aman0456/nodevectors@67e9af0506236be9aae6d460e96d4dec6329bcd2) (4.66.6)\n",
            "Requirement already satisfied: smart-open>=1.8.1 in /usr/local/lib/python3.10/dist-packages (from gensim->nodevectors@ git+https://github.com/aman0456/nodevectors@67e9af0506236be9aae6d460e96d4dec6329bcd2) (7.0.5)\n",
            "Requirement already satisfied: llvmlite<0.44,>=0.43.0dev0 in /usr/local/lib/python3.10/dist-packages (from numba->nodevectors@ git+https://github.com/aman0456/nodevectors@67e9af0506236be9aae6d460e96d4dec6329bcd2) (0.43.0)\n",
            "Requirement already satisfied: joblib>=1.2.0 in /usr/local/lib/python3.10/dist-packages (from scikit-learn->nodevectors@ git+https://github.com/aman0456/nodevectors@67e9af0506236be9aae6d460e96d4dec6329bcd2) (1.4.2)\n",
            "Requirement already satisfied: threadpoolctl>=3.1.0 in /usr/local/lib/python3.10/dist-packages (from scikit-learn->nodevectors@ git+https://github.com/aman0456/nodevectors@67e9af0506236be9aae6d460e96d4dec6329bcd2) (3.5.0)\n",
            "Requirement already satisfied: six>=1.5 in /usr/local/lib/python3.10/dist-packages (from python-dateutil>=2.8.2->pandas>=1.0->nodevectors@ git+https://github.com/aman0456/nodevectors@67e9af0506236be9aae6d460e96d4dec6329bcd2) (1.16.0)\n",
            "Requirement already satisfied: wrapt in /usr/local/lib/python3.10/dist-packages (from smart-open>=1.8.1->gensim->nodevectors@ git+https://github.com/aman0456/nodevectors@67e9af0506236be9aae6d460e96d4dec6329bcd2) (1.16.0)\n"
          ]
        }
      ]
    },
    {
      "cell_type": "markdown",
      "metadata": {
        "id": "pUCNE4-5Wc8b"
      },
      "source": [
        "We now import the library, and create a small wrapper class which will expose only the few hyperparameters we will need to tune in this Colab"
      ]
    },
    {
      "cell_type": "code",
      "metadata": {
        "id": "QiIPtudrGlTf"
      },
      "source": [
        "from nodevectors import Node2Vec\n",
        "import networkx as nx\n",
        "\n",
        "class Node2VecNew(Node2Vec):\n",
        "  \"\"\"\n",
        "  Parameters\n",
        "  ----------\n",
        "  p : float\n",
        "      p parameter of node2vec\n",
        "  q : float\n",
        "      q parameter of node2vec\n",
        "  d : int\n",
        "      dimensionality of the embedding vectors\n",
        "  \"\"\"\n",
        "  def __init__(self, p=1, q=1, d=32):\n",
        "    super().__init__(\n",
        "                 n_components=d,\n",
        "                     walklen=10,\n",
        "                     epochs=50,\n",
        "                     return_weight=1.0/p,\n",
        "                     neighbor_weight=1.0/q,\n",
        "                     threads=0,\n",
        "                     w2vparams={'window': 4,\n",
        "                                'negative': 5,\n",
        "                                'iter': 10,\n",
        "                                'ns_exponent': 0.5,\n",
        "                                'batch_words': 128})"
      ],
      "execution_count": 2,
      "outputs": []
    },
    {
      "cell_type": "markdown",
      "metadata": {
        "id": "qwtlO4_m_LbQ"
      },
      "source": [
        "Lastly, let's import some of the common libraries needed for our task."
      ]
    },
    {
      "cell_type": "code",
      "metadata": {
        "id": "twk-K-jilWK7"
      },
      "source": [
        "import pandas as pd\n",
        "import numpy as np\n",
        "import matplotlib.pyplot as plt\n",
        "from tqdm import tqdm\n",
        "%matplotlib inline"
      ],
      "execution_count": 3,
      "outputs": []
    },
    {
      "cell_type": "markdown",
      "source": [
        "Function to print graph information"
      ],
      "metadata": {
        "id": "4tN6aCTwYsna"
      }
    },
    {
      "cell_type": "code",
      "source": [
        "def print_graph_info(G, directed=True):\n",
        "  print(\"Number of nodes:\", len(G.nodes))\n",
        "  print(\"Number of edges:\", len(G.edges))\n",
        "  if directed:\n",
        "    print(\"Average in-degree:\", sum(dict(G.in_degree).values()) / len(G.nodes))\n",
        "    print(\"Average out-degree:\", sum(dict(G.out_degree).values()) / len(G.nodes))\n",
        "  else:\n",
        "    print(\"Average degree:\", sum(dict(G.degree).values()) / len(G.nodes))"
      ],
      "metadata": {
        "id": "bj4jOdIKYplQ"
      },
      "execution_count": 4,
      "outputs": []
    },
    {
      "cell_type": "markdown",
      "metadata": {
        "id": "kAYRX2PMm0L6"
      },
      "source": [
        "### Example\n",
        "\n",
        "In the example below, we will try to reproduce the plot in the lecture notes."
      ]
    },
    {
      "cell_type": "code",
      "metadata": {
        "id": "2PsVt5f2CsmP",
        "outputId": "e1cbc03a-f82d-4922-a881-e723c1faa5be",
        "colab": {
          "base_uri": "https://localhost:8080/"
        }
      },
      "source": [
        "# Load the Zachary's Karate Club as a NetworkX Graph object\n",
        "KCG = nx.karate_club_graph()\n",
        "\n",
        "# Fit embedding model to the Karate Club graph\n",
        "n2v = Node2VecNew(1, 1, 2)\n",
        "n2v.fit(KCG)"
      ],
      "execution_count": 5,
      "outputs": [
        {
          "output_type": "stream",
          "name": "stdout",
          "text": [
            "Making walks... Done, T=12.48\n",
            "Mapping Walk Names... Done, T=0.04\n",
            "Training W2V... WARNING: gensim word2vec version is unoptimizedTry version 3.6 if on windows, versions 3.7 and 3.8 have had issues\n",
            "Done, T=0.37\n"
          ]
        }
      ]
    },
    {
      "cell_type": "code",
      "metadata": {
        "id": "ZEjzhwEiC1HD"
      },
      "source": [
        "embeddings = []\n",
        "for node in KCG.nodes:\n",
        "  embedding = list(n2v.predict(node))\n",
        "  club = KCG.nodes[node]['club']\n",
        "  embeddings.append(embedding + [club])\n",
        "\n",
        "# Construct a pandas dataframe with the 2D embeddings from node2vec,\n",
        "# plus the club name that each node belongs to after the split\n",
        "df = pd.DataFrame(embeddings, columns=['x', 'y', 'club'])"
      ],
      "execution_count": 6,
      "outputs": []
    },
    {
      "cell_type": "code",
      "metadata": {
        "id": "fJBTilMGLInb",
        "outputId": "ab8026e8-5743-4124-834f-4b2d03fc6124",
        "colab": {
          "base_uri": "https://localhost:8080/",
          "height": 466
        }
      },
      "source": [
        "# Nodes who stayed with the Mr. Hi will be plotted in red, while nodes\n",
        "# who moved with the Officer will be plotted in blue\n",
        "colors = ['red' if x == 'Mr. Hi' else 'blue' for x in df.club]\n",
        "df.plot.scatter(x='x', y='y', s=50, c=colors)"
      ],
      "execution_count": 7,
      "outputs": [
        {
          "output_type": "execute_result",
          "data": {
            "text/plain": [
              "<Axes: xlabel='x', ylabel='y'>"
            ]
          },
          "metadata": {},
          "execution_count": 7
        },
        {
          "output_type": "display_data",
          "data": {
            "text/plain": [
              "<Figure size 640x480 with 1 Axes>"
            ],
            "image/png": "[encoded data removed]"
          },
          "metadata": {}
        }
      ]
    },
    {
      "cell_type": "markdown",
      "metadata": {
        "id": "e6vmpmj6Ylph"
      },
      "source": [
        "If our example trained correctly, you should notice a clear separation between the blue and red nodes.  Solely from the graph structure, node2vec could predict how the Zachary's Karate Club split!\n",
        "\n",
        "Tune the hyperparameters ```p``` and ```q```, and notice how they affect the resulting embeddings."
      ]
    },
    {
      "cell_type": "markdown",
      "source": [
        "1. p > 1: as p grows larger, embeddings show tendancy of clear separation in most of the time. However, repeated execution of fitting embedding model sometimes yields one or two embeddings of each color not so clearly separated.\n",
        "2. q > 1: as q grows larger, seperation of blue and red nodes becomes severely compromised by around 50% chance. When this happens, the graph shows blue dots are enclosed by red ones as if we can have 3 seperation instead of 2.\n",
        "3. p < 1: as p approaches to 0, blue and red nodes distributed almost randomly and become inseperable in some cases.\n",
        "4. q < 1: repeated execution of fitting embedding mode shows all the patterns mentioned above sometimes."
      ],
      "metadata": {
        "id": "BSvcwumbtj3M"
      }
    },
    {
      "cell_type": "markdown",
      "metadata": {
        "id": "vbmr23B2rJKR"
      },
      "source": [
        "### Your Task"
      ]
    },
    {
      "cell_type": "markdown",
      "metadata": {
        "id": "x15OQeyys1xd"
      },
      "source": [
        "Now we will study the behavior of node2vec on [barbell graphs](https://mathworld.wolfram.com/BarbellGraph.html).\n",
        "\n",
        "Below you can see a toy example of a barbell graph generated with NetworkX."
      ]
    },
    {
      "cell_type": "code",
      "metadata": {
        "id": "xUYxs4E8aHgG",
        "outputId": "7ef7d45d-ad23-4331-b527-de76421de4b5",
        "colab": {
          "base_uri": "https://localhost:8080/",
          "height": 516
        }
      },
      "source": [
        "toy_barbell = nx.barbell_graph(7, 0)\n",
        "nx.draw_kamada_kawai(toy_barbell)"
      ],
      "execution_count": 8,
      "outputs": [
        {
          "output_type": "display_data",
          "data": {
            "text/plain": [
              "<Figure size 640x480 with 1 Axes>"
            ],
            "image/png": "[encoded data removed]"
          },
          "metadata": {}
        }
      ]
    },
    {
      "cell_type": "markdown",
      "metadata": {
        "id": "G7K3-57FyD8D"
      },
      "source": [
        "Generate a larger barbell graph, where each complete graph has exactly 1000 nodes. Print graph information.\n",
        "\n",
        "Then, learn node2vec embeddings on this graph, setting ```p = 1, q = 1``` and ```d = 10```."
      ]
    },
    {
      "cell_type": "code",
      "metadata": {
        "id": "k_rmp-SvaIOt",
        "outputId": "95abc1a6-b97e-4002-c1cc-1c1f156f1f3c",
        "colab": {
          "base_uri": "https://localhost:8080/"
        }
      },
      "source": [
        "''' 5-7 lines of code in total expected but can differ based on your style.'''\n",
        "\n",
        "# YOUR CODE HERE\n",
        "barbell = nx.barbell_graph(1000, 0)\n",
        "print_graph_info(barbell, False)\n",
        "barbell_n2v = Node2VecNew(1, 1, 10)\n",
        "barbell_n2v.fit(barbell)\n",
        "barbell_embeddings = []\n",
        "for node in barbell.nodes:\n",
        "  barbell_embeddings.append(list(barbell_n2v.predict(node)))\n"
      ],
      "execution_count": 9,
      "outputs": [
        {
          "output_type": "stream",
          "name": "stdout",
          "text": [
            "Number of nodes: 2000\n",
            "Number of edges: 999001\n",
            "Average degree: 999.001\n",
            "Making walks... Done, T=1.62\n",
            "Mapping Walk Names... Done, T=0.50\n",
            "Training W2V... WARNING: gensim word2vec version is unoptimizedTry version 3.6 if on windows, versions 3.7 and 3.8 have had issues\n",
            "Done, T=24.76\n"
          ]
        }
      ]
    },
    {
      "cell_type": "markdown",
      "metadata": {
        "id": "fyxZBVwhzLQe"
      },
      "source": [
        "Write a function that takes as input a node id ```n``` in the graph and returns a list containining the cosine similarity between the node2vec vector of the input node ```n``` and all the nodes in the given barbell graph (including the similarity with ```n``` itself)."
      ]
    },
    {
      "cell_type": "code",
      "metadata": {
        "id": "aq7advtkjXSp"
      },
      "source": [
        "''' 12-20 lines of code in total expected but can differ based on your style.'''\n",
        "\n",
        "# YOUR CODE HERE\n",
        "from sklearn.metrics.pairwise import cosine_similarity\n",
        "\n",
        "def cos_sim(n, v):\n",
        "  df = pd.DataFrame(barbell_embeddings, columns=range(len(barbell_embeddings[0])), index=range(len(barbell_embeddings)))\n",
        "  cosine = cosine_similarity(df.loc[n].values.reshape(1, -1), df.values)\n",
        "  return pd.DataFrame(cosine, columns=df.index, index=[n])\n"
      ],
      "execution_count": 10,
      "outputs": []
    },
    {
      "cell_type": "markdown",
      "source": [
        "Print the result of the function for n=5."
      ],
      "metadata": {
        "id": "hiQNWOCTk_2L"
      }
    },
    {
      "cell_type": "code",
      "source": [
        "''' 1 line of code in total expected.'''\n",
        "\n",
        "#YOUR CODE HERE\n",
        "cos_sim(5, barbell_embeddings)\n"
      ],
      "metadata": {
        "id": "a80HHw4LlBq2",
        "outputId": "f88f2f55-8400-4e15-d59c-71033b4afec4",
        "colab": {
          "base_uri": "https://localhost:8080/",
          "height": 130
        }
      },
      "execution_count": 11,
      "outputs": [
        {
          "output_type": "execute_result",
          "data": {
            "text/plain": [
              "       0         1         2         3         4     5         6         7     \\\n",
              "5  0.922979  0.936762  0.955705  0.954775  0.939406   1.0  0.912121  0.938216   \n",
              "\n",
              "       8         9     ...      1990      1991     1992      1993     1994  \\\n",
              "5  0.927516  0.976644  ...  0.145497  0.102861  0.13255  0.150351  0.12564   \n",
              "\n",
              "       1995      1996      1997      1998      1999  \n",
              "5  0.125454  0.149907  0.140437  0.087966  0.112608  \n",
              "\n",
              "[1 rows x 2000 columns]"
            ],
            "text/html": [
              "\n",
              "  <div id=\"df-a2b43aeb-a62e-4928-afd2-fb441098af3c\" class=\"colab-df-container\">\n",
              "    <div>\n",
              "<style scoped>\n",
              "    .dataframe tbody tr th:only-of-type {\n",
              "        vertical-align: middle;\n",
              "    }\n",
              "\n",
              "    .dataframe tbody tr th {\n",
              "        vertical-align: top;\n",
              "    }\n",
              "\n",
              "    .dataframe thead th {\n",
              "        text-align: right;\n",
              "    }\n",
              "</style>\n",
              "<table border=\"1\" class=\"dataframe\">\n",
              "  <thead>\n",
              "    <tr style=\"text-align: right;\">\n",
              "      <th></th>\n",
              "      <th>0</th>\n",
              "      <th>1</th>\n",
              "      <th>2</th>\n",
              "      <th>3</th>\n",
              "      <th>4</th>\n",
              "      <th>5</th>\n",
              "      <th>6</th>\n",
              "      <th>7</th>\n",
              "      <th>8</th>\n",
              "      <th>9</th>\n",
              "      <th>...</th>\n",
              "      <th>1990</th>\n",
              "      <th>1991</th>\n",
              "      <th>1992</th>\n",
              "      <th>1993</th>\n",
              "      <th>1994</th>\n",
              "      <th>1995</th>\n",
              "      <th>1996</th>\n",
              "      <th>1997</th>\n",
              "      <th>1998</th>\n",
              "      <th>1999</th>\n",
              "    </tr>\n",
              "  </thead>\n",
              "  <tbody>\n",
              "    <tr>\n",
              "      <th>5</th>\n",
              "      <td>0.922979</td>\n",
              "      <td>0.936762</td>\n",
              "      <td>0.955705</td>\n",
              "      <td>0.954775</td>\n",
              "      <td>0.939406</td>\n",
              "      <td>1.0</td>\n",
              "      <td>0.912121</td>\n",
              "      <td>0.938216</td>\n",
              "      <td>0.927516</td>\n",
              "      <td>0.976644</td>\n",
              "      <td>...</td>\n",
              "      <td>0.145497</td>\n",
              "      <td>0.102861</td>\n",
              "      <td>0.13255</td>\n",
              "      <td>0.150351</td>\n",
              "      <td>0.12564</td>\n",
              "      <td>0.125454</td>\n",
              "      <td>0.149907</td>\n",
              "      <td>0.140437</td>\n",
              "      <td>0.087966</td>\n",
              "      <td>0.112608</td>\n",
              "    </tr>\n",
              "  </tbody>\n",
              "</table>\n",
              "<p>1 rows × 2000 columns</p>\n",
              "</div>\n",
              "    <div class=\"colab-df-buttons\">\n",
              "\n",
              "  <div class=\"colab-df-container\">\n",
              "    <button class=\"colab-df-convert\" onclick=\"convertToInteractive('df-a2b43aeb-a62e-4928-afd2-fb441098af3c')\"\n",
              "            title=\"Convert this dataframe to an interactive table.\"\n",
              "            style=\"display:none;\">\n",
              "\n",
              "  <svg xmlns=\"http://www.w3.org/2000/svg\" height=\"24px\" viewBox=\"0 -960 960 960\">\n",
              "    <path d=\"M120-120v-720h720v720H120Zm60-500h600v-160H180v160Zm220 220h160v-160H400v160Zm0 220h160v-160H400v160ZM180-400h160v-160H180v160Zm440 0h160v-160H620v160ZM180-180h160v-160H180v160Zm440 0h160v-160H620v160Z\"/>\n",
              "  </svg>\n",
              "    </button>\n",
              "\n",
              "  <style>\n",
              "    .colab-df-container {\n",
              "      display:flex;\n",
              "      gap: 12px;\n",
              "    }\n",
              "\n",
              "    .colab-df-convert {\n",
              "      background-color: #E8F0FE;\n",
              "      border: none;\n",
              "      border-radius: 50%;\n",
              "      cursor: pointer;\n",
              "      display: none;\n",
              "      fill: #1967D2;\n",
              "      height: 32px;\n",
              "      padding: 0 0 0 0;\n",
              "      width: 32px;\n",
              "    }\n",
              "\n",
              "    .colab-df-convert:hover {\n",
              "      background-color: #E2EBFA;\n",
              "      box-shadow: 0px 1px 2px rgba(60, 64, 67, 0.3), 0px 1px 3px 1px rgba(60, 64, 67, 0.15);\n",
              "      fill: #174EA6;\n",
              "    }\n",
              "\n",
              "    .colab-df-buttons div {\n",
              "      margin-bottom: 4px;\n",
              "    }\n",
              "\n",
              "    [theme=dark] .colab-df-convert {\n",
              "      background-color: #3B4455;\n",
              "      fill: #D2E3FC;\n",
              "    }\n",
              "\n",
              "    [theme=dark] .colab-df-convert:hover {\n",
              "      background-color: #434B5C;\n",
              "      box-shadow: 0px 1px 3px 1px rgba(0, 0, 0, 0.15);\n",
              "      filter: drop-shadow(0px 1px 2px rgba(0, 0, 0, 0.3));\n",
              "      fill: #FFFFFF;\n",
              "    }\n",
              "  </style>\n",
              "\n",
              "    <script>\n",
              "      const buttonEl =\n",
              "        document.querySelector('#df-a2b43aeb-a62e-4928-afd2-fb441098af3c button.colab-df-convert');\n",
              "      buttonEl.style.display =\n",
              "        google.colab.kernel.accessAllowed ? 'block' : 'none';\n",
              "\n",
              "      async function convertToInteractive(key) {\n",
              "        const element = document.querySelector('#df-a2b43aeb-a62e-4928-afd2-fb441098af3c');\n",
              "        const dataTable =\n",
              "          await google.colab.kernel.invokeFunction('convertToInteractive',\n",
              "                                                    [key], {});\n",
              "        if (!dataTable) return;\n",
              "\n",
              "        const docLinkHtml = 'Like what you see? Visit the ' +\n",
              "          '<a target=\"_blank\" href=https://colab.research.google.com/notebooks/data_table.ipynb>data table notebook</a>'\n",
              "          + ' to learn more about interactive tables.';\n",
              "        element.innerHTML = '';\n",
              "        dataTable['output_type'] = 'display_data';\n",
              "        await google.colab.output.renderOutput(dataTable, element);\n",
              "        const docLink = document.createElement('div');\n",
              "        docLink.innerHTML = docLinkHtml;\n",
              "        element.appendChild(docLink);\n",
              "      }\n",
              "    </script>\n",
              "  </div>\n",
              "\n",
              "\n",
              "    </div>\n",
              "  </div>\n"
            ],
            "application/vnd.google.colaboratory.intrinsic+json": {
              "type": "dataframe"
            }
          },
          "metadata": {},
          "execution_count": 11
        }
      ]
    },
    {
      "cell_type": "markdown",
      "source": [
        "Write the function to compute the number of nodes in the graph whose embeddings have exactly 1000 neighbors with a cosine similarity greater than 0.8. Print the result."
      ],
      "metadata": {
        "id": "YDRJQw_0lfUN"
      }
    },
    {
      "cell_type": "code",
      "source": [
        "''' 12-15 lines of code in total expected but can differ based on your style.'''\n",
        "\n",
        "#YOUR CODE HERE\n",
        "def node_filter(embeddings, neighbors, cos_threshold):\n",
        "  df = pd.DataFrame(embeddings, columns=range(len(embeddings[0])), index=range(len(embeddings)))\n",
        "  cosine = cosine_similarity(df, df)\n",
        "  cosine_filtered = []\n",
        "  for row in cosine:\n",
        "    count = 0\n",
        "    for value in row:\n",
        "      if eval(\"%s%s\" % (value, cos_threshold)):\n",
        "        count += 1\n",
        "    #excluding the similarity from one node to itself by adding 1 to count\n",
        "    if eval(\"%s%s\" % (count+1, neighbors)):\n",
        "      cosine_filtered.append(row)\n",
        "  return len(cosine_filtered)\n",
        "\n",
        "print(\"Number of nodes in the graph satisfies the given condition: \",node_filter(barbell_embeddings, '==1000', '>0.8'))\n"
      ],
      "metadata": {
        "id": "-_61_pwOjMsk",
        "outputId": "a32a715c-c9df-4b53-d7b1-64ef77a6654f",
        "colab": {
          "base_uri": "https://localhost:8080/"
        }
      },
      "execution_count": 12,
      "outputs": [
        {
          "output_type": "stream",
          "name": "stdout",
          "text": [
            "Number of nodes in the graph satisfies the given condition:  246\n"
          ]
        }
      ]
    },
    {
      "cell_type": "markdown",
      "metadata": {
        "id": "zw1oNDDD2dZO"
      },
      "source": [
        "Generate another barbell graph, this time adding a path of length 51 between\n",
        "\n",
        "---\n",
        "\n",
        "the two complete graphs and print graph information. To find out how, refer to the NetworkX documentation: [https://networkx.github.io/documentation/stable/reference/\n",
        "\n",
        "---\n",
        "\n",
        "generated/networkx.generators.classic.barbell_graph.html#networkx.generators.classic.barbell_graph](https://networkx.github.io/documentation/stable/reference/generated/networkx.generators.classic.barbell_graph.html#networkx.generators.classic.barbell_graph)\n",
        "\n",
        "Learn the node2vec embeddings for the nodes of this new graph, using the same hyperparameters as before."
      ]
    },
    {
      "cell_type": "code",
      "metadata": {
        "id": "Wrv5Eyba3NM0",
        "outputId": "dc8bbcee-0475-42f3-c320-57ac3a722116",
        "colab": {
          "base_uri": "https://localhost:8080/"
        }
      },
      "source": [
        "''' 4-6 lines of code in total expected but can differ based on your style.'''\n",
        "\n",
        "# YOUR CODE HERE\n",
        "another_barbell = nx.barbell_graph(1000, 51)\n",
        "print_graph_info(another_barbell, False)\n",
        "barbell_n2v = Node2VecNew(1, 1, 10)\n",
        "barbell_n2v.fit(another_barbell)\n",
        "another_embeddings = []\n",
        "for node in another_barbell.nodes:\n",
        "  another_embeddings.append(list(barbell_n2v.predict(node)))"
      ],
      "execution_count": 13,
      "outputs": [
        {
          "output_type": "stream",
          "name": "stdout",
          "text": [
            "Number of nodes: 2051\n",
            "Number of edges: 999052\n",
            "Average degree: 974.2096538274012\n",
            "Making walks... Done, T=1.00\n",
            "Mapping Walk Names... Done, T=0.51\n",
            "Training W2V... WARNING: gensim word2vec version is unoptimizedTry version 3.6 if on windows, versions 3.7 and 3.8 have had issues\n",
            "Done, T=24.67\n"
          ]
        }
      ]
    },
    {
      "cell_type": "markdown",
      "source": [
        "Print the number of nodes in the graph whose embeddings have exactly 1000 neighbors with a cosine similarity greater than 0.8."
      ],
      "metadata": {
        "id": "GmPOyTc2m0CD"
      }
    },
    {
      "cell_type": "code",
      "source": [
        "''' 1 line of code in total expected.'''\n",
        "\n",
        "# YOUR CODE HERE\n",
        "print(\"Number of nodes satisfies the given condition: \" ,node_filter(another_embeddings, '==1000', '>0.8'))"
      ],
      "metadata": {
        "colab": {
          "base_uri": "https://localhost:8080/"
        },
        "id": "8AtEbVAVmzcW",
        "outputId": "f5895910-da52-4ef5-a3e0-8b19a1186991"
      },
      "execution_count": 14,
      "outputs": [
        {
          "output_type": "stream",
          "name": "stdout",
          "text": [
            "Number of nodes satisfies the given condition:  1253\n"
          ]
        }
      ]
    },
    {
      "cell_type": "markdown",
      "source": [
        "Write a function to compute the number of nodes in the graph whose embeddings have less than 100 neighbors with a cosine similarity greater than 0.8. Print the result."
      ],
      "metadata": {
        "id": "3lUuA_4MoTG6"
      }
    },
    {
      "cell_type": "code",
      "source": [
        "''' 6-10 lines of code in total expected but can differ based on your style.'''\n",
        "\n",
        "# YOUR CODE HERE\n",
        "print(\"Number of nodes satisfies the given condition: \", node_filter(another_embeddings, '<100', '>0.8'))"
      ],
      "metadata": {
        "id": "dAth5AnbnOc7",
        "outputId": "84f6b8b2-3ed0-4439-c931-d314357a948e",
        "colab": {
          "base_uri": "https://localhost:8080/"
        }
      },
      "execution_count": 15,
      "outputs": [
        {
          "output_type": "stream",
          "name": "stdout",
          "text": [
            "Number of nodes satisfies the given condition:  53\n"
          ]
        }
      ]
    },
    {
      "cell_type": "markdown",
      "source": [
        "Write a paragraph of conclusions below summarizing your insights."
      ],
      "metadata": {
        "id": "X1greYqFqGTg"
      }
    },
    {
      "cell_type": "markdown",
      "source": [
        "Since the parameter p and q are set to one, node2vec follows complete random walk (neither BFS nor DFS like). In this situation, the cosine_similarity of embedding of two nodes implies the probability of both nodes appears in some random walk starting from one node to the other. In case of the barbell with 0 connecting length, a node in a complete graph is reachable to the other 999 node in the same complete graph with high chance. However, the chance of a node in one complete graph reaching to some node (except the connecting node) in the other complete graph is quite low since the path must consist of the node that connects the two complete graphs, and pick the right path from the other complete graph. On the other hand, the barbell graph with connecting length of 51, the chance of the walk consisting the connecting node is still small, but if it is the case, the walk can reach the neighbor (which is the other node of connecting path) with 50% chance, either go forward or back. This leads a node in a complete graph has 1000 nodes of cosine similarity >0.8. Therefore, more nodes that satisfy the condition appears as a result compared to the previous example. Meanwhile, the number of nodes that have less than 100 neighbors with cosine similarity >0.8 shows the result around 52 because the nodes that are reachable to less than 100 nodes must be the nodes in the connecting path.  "
      ],
      "metadata": {
        "id": "L57G6xAhqHob"
      }
    },
    {
      "cell_type": "markdown",
      "metadata": {
        "id": "SIrXJyVNP2AI"
      },
      "source": [
        "Once you have working code for each cell above, **head over to eClass and submit your solution for this Colab**!\n"
      ]
    }
  ]
}