{
  "nbformat": 4,
  "nbformat_minor": 0,
  "metadata": {
    "colab": {
      "provenance": [],
      "include_colab_link": true
    },
    "kernelspec": {
      "name": "python3",
      "display_name": "Python 3"
    }
  },
  "cells": [
    {
      "cell_type": "markdown",
      "metadata": {
        "id": "view-in-github",
        "colab_type": "text"
      },
      "source": [
        "<a href=\"https://colab.research.google.com/github/jewbe22/eecs4415_Big_data/blob/main/project_1/Task_2_Pattern_Discovery_in_Spark.ipynb\" target=\"_parent\"><img src=\"https://colab.research.google.com/assets/colab-badge.svg\" alt=\"Open In Colab\"/></a>"
      ]
    },
    {
      "cell_type": "markdown",
      "metadata": {
        "id": "kPt5q27L5557"
      },
      "source": [
        "# EECS 4415 - Task 2\n",
        "## Pattern Discovery in Spark"
      ]
    },
    {
      "cell_type": "markdown",
      "metadata": {
        "id": "p0-YhEpP_Ds-"
      },
      "source": [
        "### Setup"
      ]
    },
    {
      "cell_type": "markdown",
      "metadata": {
        "id": "Zsj5WYpR9QId"
      },
      "source": [
        "Let's set up Spark on your Colab environment.  Run the cell below!"
      ]
    },
    {
      "cell_type": "code",
      "metadata": {
        "id": "k-qHai2252mI",
        "colab": {
          "base_uri": "https://localhost:8080/"
        },
        "outputId": "d1f6e943-d501-4f5b-eb71-389ca21c1a63"
      },
      "source": [
        "!pip install pyspark\n",
        "!pip install -U -q PyDrive\n",
        "!apt install openjdk-8-jdk-headless -qq\n",
        "import os\n",
        "os.environ[\"JAVA_HOME\"] = \"/usr/lib/jvm/java-8-openjdk-amd64\""
      ],
      "execution_count": 1,
      "outputs": [
        {
          "output_type": "stream",
          "name": "stdout",
          "text": [
            "Requirement already satisfied: pyspark in /usr/local/lib/python3.10/dist-packages (3.5.3)\n",
            "Requirement already satisfied: py4j==0.10.9.7 in /usr/local/lib/python3.10/dist-packages (from pyspark) (0.10.9.7)\n",
            "openjdk-8-jdk-headless is already the newest version (8u422-b05-1~22.04).\n",
            "0 upgraded, 0 newly installed, 0 to remove and 49 not upgraded.\n"
          ]
        }
      ]
    },
    {
      "cell_type": "code",
      "source": [
        "from google.colab import drive\n",
        "drive.mount('/content/drive')"
      ],
      "metadata": {
        "id": "anafrcL39KZZ",
        "colab": {
          "base_uri": "https://localhost:8080/"
        },
        "outputId": "e4d4852d-d572-48b8-da0b-e9526a6a13d1"
      },
      "execution_count": 2,
      "outputs": [
        {
          "output_type": "stream",
          "name": "stdout",
          "text": [
            "Drive already mounted at /content/drive; to attempt to forcibly remount, call drive.mount(\"/content/drive\", force_remount=True).\n"
          ]
        }
      ]
    },
    {
      "cell_type": "markdown",
      "metadata": {
        "id": "-CJ71AKe91eh"
      },
      "source": [
        "Now we authenticate a Google Drive client to download the file we will be processing in our Spark job.\n",
        "\n",
        "**Make sure to follow the interactive instructions.**"
      ]
    },
    {
      "cell_type": "code",
      "metadata": {
        "id": "5K93ABEy9Zlo",
        "colab": {
          "base_uri": "https://localhost:8080/"
        },
        "outputId": "5b1455a3-7d3a-4790-b70b-89269f8ec3d3"
      },
      "source": [
        "from pydrive.auth import GoogleAuth\n",
        "from pydrive.drive import GoogleDrive\n",
        "from google.colab import auth\n",
        "from oauth2client.client import GoogleCredentials\n",
        "\n",
        "# Authenticate and create the PyDrive client\n",
        "auth.authenticate_user()\n",
        "gauth = GoogleAuth()\n",
        "gauth.credentials = GoogleCredentials.get_application_default()\n",
        "drive = GoogleDrive(gauth)"
      ],
      "execution_count": 3,
      "outputs": [
        {
          "output_type": "stream",
          "name": "stderr",
          "text": [
            "WARNING:root:pydrive is deprecated and no longer maintained. We recommend that you migrate your projects to pydrive2, the maintained fork of pydrive\n"
          ]
        }
      ]
    },
    {
      "cell_type": "code",
      "metadata": {
        "id": "0orRvrc1-545"
      },
      "source": [
        "id='1dhi1F78ssqR8gE6U-AgB80ZW7V_9snX4'\n",
        "downloaded = drive.CreateFile({'id': id})\n",
        "downloaded.GetContentFile('products.csv')\n",
        "\n",
        "id='1KZBNEaIyMTcsRV817us6uLZgm-Mii8oU'\n",
        "downloaded = drive.CreateFile({'id': id})\n",
        "downloaded.GetContentFile('order_products__train.csv')"
      ],
      "execution_count": 4,
      "outputs": []
    },
    {
      "cell_type": "markdown",
      "metadata": {
        "id": "qwtlO4_m_LbQ"
      },
      "source": [
        "If you executed the cells above, you should be able to see the dataset we will need for this Colab under the \"Files\" tab on the left panel."
      ]
    },
    {
      "cell_type": "markdown",
      "source": [],
      "metadata": {
        "id": "aKrAiLv3Dup-"
      }
    },
    {
      "cell_type": "code",
      "metadata": {
        "id": "twk-K-jilWK7"
      },
      "source": [
        "import pandas as pd\n",
        "import numpy as np\n",
        "import matplotlib.pyplot as plt\n",
        "%matplotlib inline\n",
        "\n",
        "import pyspark\n",
        "from pyspark.sql import *\n",
        "from pyspark.sql.functions import *\n",
        "from pyspark import SparkContext, SparkConf"
      ],
      "execution_count": 5,
      "outputs": []
    },
    {
      "cell_type": "markdown",
      "metadata": {
        "id": "dr-8fK-1lmY0"
      },
      "source": [
        "Let's initialize the Spark context."
      ]
    },
    {
      "cell_type": "code",
      "metadata": {
        "id": "UOwtm2l7lePt"
      },
      "source": [
        "# create the session\n",
        "conf = SparkConf().set(\"spark.ui.port\", \"4050\")\n",
        "\n",
        "# create the context\n",
        "sc = pyspark.SparkContext(conf=conf)\n",
        "spark = SparkSession.builder.getOrCreate()"
      ],
      "execution_count": 6,
      "outputs": []
    },
    {
      "cell_type": "markdown",
      "metadata": {
        "id": "CRaF2A_j_nC7"
      },
      "source": [
        "### Your task"
      ]
    },
    {
      "cell_type": "markdown",
      "metadata": {
        "id": "ebLNUxP0_8x3"
      },
      "source": [
        "If you run successfully the setup stage, you are ready to work with the **3 Million Instacart Orders** dataset. In case you want to read more about it, check the [official Instacart blog post](https://tech.instacart.com/3-million-instacart-orders-open-sourced-d40d29ead6f2) about it, a concise [schema description](https://gist.github.com/jeremystan/c3b39d947d9b88b3ccff3147dbcf6c6b) of the dataset, and the [download page](https://www.instacart.com/datasets/grocery-shopping-2017).\n",
        "\n",
        "In this Colab, we will be working with a subset training dataset (~131K orders) to perform fast and scalable Frequent Pattern Mining."
      ]
    },
    {
      "cell_type": "code",
      "metadata": {
        "id": "xu-e7Ph2_ruG"
      },
      "source": [
        "products = spark.read.csv('products.csv', header=True, inferSchema=True)\n",
        "orders = spark.read.csv('order_products__train.csv', header=True, inferSchema=True)"
      ],
      "execution_count": 7,
      "outputs": []
    },
    {
      "cell_type": "code",
      "metadata": {
        "id": "hhxZZRT9syUO",
        "colab": {
          "base_uri": "https://localhost:8080/"
        },
        "outputId": "cc7cb356-19af-4c1c-fc28-6d0e7a517621"
      },
      "source": [
        "products.printSchema()"
      ],
      "execution_count": 8,
      "outputs": [
        {
          "output_type": "stream",
          "name": "stdout",
          "text": [
            "root\n",
            " |-- product_id: integer (nullable = true)\n",
            " |-- product_name: string (nullable = true)\n",
            " |-- aisle_id: string (nullable = true)\n",
            " |-- department_id: string (nullable = true)\n",
            "\n"
          ]
        }
      ]
    },
    {
      "cell_type": "code",
      "metadata": {
        "id": "8VeRYRz2s1pm",
        "colab": {
          "base_uri": "https://localhost:8080/"
        },
        "outputId": "5f0086c2-5a77-4dd0-a67b-d5f7de296537"
      },
      "source": [
        "orders.printSchema()"
      ],
      "execution_count": 9,
      "outputs": [
        {
          "output_type": "stream",
          "name": "stdout",
          "text": [
            "root\n",
            " |-- order_id: integer (nullable = true)\n",
            " |-- product_id: integer (nullable = true)\n",
            " |-- add_to_cart_order: integer (nullable = true)\n",
            " |-- reordered: integer (nullable = true)\n",
            "\n"
          ]
        }
      ]
    },
    {
      "cell_type": "markdown",
      "metadata": {
        "id": "h5muD_Io59CG"
      },
      "source": [
        "Use the Spark Dataframe API to join 'products' and 'orders', so that you will be able to see the product names in each transaction (and not only their ids).  Then, group by the orders by 'order_id' to obtain one row per basket (i.e., set of products purchased together by one customer). Display the top 20 rows."
      ]
    },
    {
      "cell_type": "code",
      "metadata": {
        "id": "zRH4o4p7s7V6",
        "colab": {
          "base_uri": "https://localhost:8080/"
        },
        "outputId": "9f8ff825-8d92-40a9-ccca-dbedc5110ec1"
      },
      "source": [
        "''' 2-3 lines of code expected '''\n",
        "# YOUR CODE HERE\n",
        "product_order = products.join(orders, products.product_id == orders.product_id).groupBy('order_id').agg(collect_set('product_name').alias('basket'))\n",
        "product_order.show(20)"
      ],
      "execution_count": 10,
      "outputs": [
        {
          "output_type": "stream",
          "name": "stdout",
          "text": [
            "+--------+--------------------+\n",
            "|order_id|              basket|\n",
            "+--------+--------------------+\n",
            "|       1|[Bag of Organic B...|\n",
            "|      96|[Roasted Turkey, ...|\n",
            "|     112|[Umcka Elderberry...|\n",
            "|     218|[Okra, Black Plum...|\n",
            "|     456|[Petite Peas, Lar...|\n",
            "|     473|[Organic Whole Mi...|\n",
            "|     631|[Organic Cilantro...|\n",
            "|     762|[Organic Cucumber...|\n",
            "|     774|[Nacho Cheese Sau...|\n",
            "|     844|[Organic Red Radi...|\n",
            "|     904|[Zero Calorie Col...|\n",
            "|     988|[Whipped Light Cr...|\n",
            "|    1032|[Organic Living B...|\n",
            "|    1077|[Sparkling Water,...|\n",
            "|    1119|[Shallot, Large L...|\n",
            "|    1139|[Cinnamon Rolls w...|\n",
            "|    1143|[Water, Natural P...|\n",
            "|    1145|[Mexican Casserol...|\n",
            "|    1275|[Small Hass Avoca...|\n",
            "|    1280|[Vanilla Soy Milk...|\n",
            "+--------+--------------------+\n",
            "only showing top 20 rows\n",
            "\n"
          ]
        }
      ]
    },
    {
      "cell_type": "markdown",
      "metadata": {
        "id": "EfHoTLAg6qnM"
      },
      "source": [
        "In this Colab we will first explore [MLlib](https://spark.apache.org/mllib/), Apache Spark's scalable machine learning library. Specifically, you should use its implementation of the [FP-Growth](https://spark.apache.org/docs/latest/ml-frequent-pattern-mining.html#fp-growth) algorithm to perform fast Frequent Pattern Mining in Spark.\n",
        "Use the Python example in the documentation, and train a model with\n",
        "\n",
        "```minSupport=0.01``` and ```minConfidence=0.5```"
      ]
    },
    {
      "cell_type": "code",
      "metadata": {
        "id": "boWgxXNns089"
      },
      "source": [
        "''' 3 lines of code expected '''\n",
        "# YOUR CODE HERE\n",
        "from pyspark.ml.fpm import FPGrowth\n",
        "fpGrowth = FPGrowth(itemsCol=\"basket\", minSupport=0.01, minConfidence=0.5)\n",
        "model = fpGrowth.fit(product_order)"
      ],
      "execution_count": 11,
      "outputs": []
    },
    {
      "cell_type": "markdown",
      "metadata": {
        "id": "6kpTVdfD8UiO"
      },
      "source": [
        "Compute and print how many frequent itemsets and association rules were generated by running FP-growth alongside visalizing top frequent itemsets and association rules. Show top 20 rows.\n"
      ]
    },
    {
      "cell_type": "code",
      "metadata": {
        "id": "6KYgQ_URunvA",
        "colab": {
          "base_uri": "https://localhost:8080/"
        },
        "outputId": "a6665eb0-bc1c-4442-a093-998d2da543c8"
      },
      "source": [
        "''' 5 lines of code in total expected but can differ based on your style. for sub-parts of the question, creating different cells of code would be recommended.'''\n",
        "# YOUR CODE HERE\n",
        "df_freq = model.freqItemsets\n",
        "df_freq.show(20, truncate=False)\n"
      ],
      "execution_count": 12,
      "outputs": [
        {
          "output_type": "stream",
          "name": "stdout",
          "text": [
            "+----------------------------------------------+-----+\n",
            "|items                                         |freq |\n",
            "+----------------------------------------------+-----+\n",
            "|[Green Onions]                                |1445 |\n",
            "|[Red Raspberries]                             |1493 |\n",
            "|[Organic Banana]                              |2332 |\n",
            "|[Jalapeno Peppers]                            |1899 |\n",
            "|[Organic Large Extra Fancy Fuji Apple]        |2891 |\n",
            "|[Organic Whole String Cheese]                 |1993 |\n",
            "|[Organic Peeled Whole Baby Carrots]           |2460 |\n",
            "|[Limes]                                       |6033 |\n",
            "|[Limes, Large Lemon]                          |1595 |\n",
            "|[Limes, Banana]                               |1331 |\n",
            "|[Raspberries]                                 |3279 |\n",
            "|[Hass Avocado]                                |1633 |\n",
            "|[Organic Broccoli Florets]                    |1361 |\n",
            "|[Uncured Genoa Salami]                        |1788 |\n",
            "|[Spring Water]                                |2225 |\n",
            "|[Michigan Organic Kale]                       |2627 |\n",
            "|[Yellow Onions]                               |3762 |\n",
            "|[Organic Strawberries]                        |10894|\n",
            "|[Organic Strawberries, Bag of Organic Bananas]|3074 |\n",
            "|[Organic Strawberries, Banana]                |2174 |\n",
            "+----------------------------------------------+-----+\n",
            "only showing top 20 rows\n",
            "\n"
          ]
        }
      ]
    },
    {
      "cell_type": "code",
      "source": [
        "df_assoc = model.associationRules\n",
        "df_assoc.show(20)"
      ],
      "metadata": {
        "colab": {
          "base_uri": "https://localhost:8080/"
        },
        "id": "w0r3InxnbWlk",
        "outputId": "f49ed30b-f331-4bf3-f0fd-8109066260f3"
      },
      "execution_count": 13,
      "outputs": [
        {
          "output_type": "stream",
          "name": "stdout",
          "text": [
            "+----------+----------+----------+----+-------+\n",
            "|antecedent|consequent|confidence|lift|support|\n",
            "+----------+----------+----------+----+-------+\n",
            "+----------+----------+----------+----+-------+\n",
            "\n"
          ]
        }
      ]
    },
    {
      "cell_type": "markdown",
      "metadata": {
        "id": "qT8Lwm1VAPoN"
      },
      "source": [
        "Now retrain the FP-growth model changing only\n",
        "```minsupport=0.001```.\n",
        "Compute and print how many frequent itemsets and association rules were generated. Show top 20 rows for both.\n"
      ]
    },
    {
      "cell_type": "code",
      "metadata": {
        "id": "F4LTM9beApYn",
        "colab": {
          "base_uri": "https://localhost:8080/"
        },
        "outputId": "801a5cd9-5cae-4630-8b9b-2ab63b7cd045"
      },
      "source": [
        "''' 6 lines of code in total expected but can differ based on your style. for sub-parts of the question, creating different cells of code would be recommended.'''\n",
        "# YOUR CODE HERE\n",
        "fpGrowth_aux = FPGrowth(itemsCol=\"basket\", minSupport=0.001, minConfidence=0.5)\n",
        "model_aux = fpGrowth_aux.fit(product_order)\n",
        "df_freq = model_aux.freqItemsets\n",
        "df_freq.show(20, truncate=False)"
      ],
      "execution_count": 14,
      "outputs": [
        {
          "output_type": "stream",
          "name": "stdout",
          "text": [
            "+-------------------------------------------------------+----+\n",
            "|items                                                  |freq|\n",
            "+-------------------------------------------------------+----+\n",
            "|[White Cheddar Popcorn]                                |370 |\n",
            "|[Organic YoKids Very Berry Smoothies]                  |259 |\n",
            "|[Total 0% Nonfat Greek Yogurt]                         |993 |\n",
            "|[Total 0% Nonfat Greek Yogurt, Organic Avocado]        |137 |\n",
            "|[Total 0% Nonfat Greek Yogurt, Bag of Organic Bananas] |157 |\n",
            "|[Total 0% Nonfat Greek Yogurt, Organic Baby Spinach]   |143 |\n",
            "|[Total 0% Nonfat Greek Yogurt, Banana]                 |258 |\n",
            "|[Organic Large Green Asparagus]                        |730 |\n",
            "|[Organic Large Green Asparagus, Organic Strawberries]  |185 |\n",
            "|[Organic Large Green Asparagus, Bag of Organic Bananas]|263 |\n",
            "|[Organic Large Green Asparagus, Organic Baby Spinach]  |136 |\n",
            "|[Organic Large Green Asparagus, Organic Hass Avocado]  |164 |\n",
            "|[Organic Cream Cheese Bar]                             |365 |\n",
            "|[Organic Reduced Fat Omega-3 Milk]                     |140 |\n",
            "|[Florida Orange Juice With Calcium & Vitamin D]        |283 |\n",
            "|[Green Onions]                                         |1445|\n",
            "|[Green Onions, Limes]                                  |206 |\n",
            "|[Green Onions, Organic Avocado]                        |133 |\n",
            "|[Green Onions, Bunched Cilantro]                       |187 |\n",
            "|[Green Onions, Large Lemon]                            |229 |\n",
            "+-------------------------------------------------------+----+\n",
            "only showing top 20 rows\n",
            "\n"
          ]
        }
      ]
    },
    {
      "cell_type": "code",
      "source": [
        "df_assoc = model_aux.associationRules\n",
        "df_assoc.show(20, truncate=False)"
      ],
      "metadata": {
        "colab": {
          "base_uri": "https://localhost:8080/"
        },
        "id": "CNWjDigKd6IR",
        "outputId": "f2ea73d6-a753-43a2-a850-3d101fa71c35"
      },
      "execution_count": 15,
      "outputs": [
        {
          "output_type": "stream",
          "name": "stdout",
          "text": [
            "+-----------------------------------------------------------------+------------------------+------------------+------------------+---------------------+\n",
            "|antecedent                                                       |consequent              |confidence        |lift              |support              |\n",
            "+-----------------------------------------------------------------+------------------------+------------------+------------------+---------------------+\n",
            "|[Organic Whole String Cheese, Organic Hass Avocado]              |[Bag of Organic Bananas]|0.5314685314685315|4.504745125675359 |0.0011584571180330617|\n",
            "|[Organic Broccoli, Organic Hass Avocado]                         |[Bag of Organic Bananas]|0.5048231511254019|4.278897986822536 |0.001196564260073623 |\n",
            "|[Organic Navel Orange, Organic Raspberries]                      |[Bag of Organic Bananas]|0.5412186379928315|4.587387356098284 |0.0011508356896249496|\n",
            "|[Organic Kiwi, Organic Hass Avocado]                             |[Bag of Organic Bananas]|0.5459770114942529|4.627719489738336 |0.001448071397541327 |\n",
            "|[Organic D'Anjou Pears, Organic Hass Avocado]                    |[Bag of Organic Bananas]|0.5170454545454546|4.3824946411792345|0.0013870999702764292|\n",
            "|[Organic Raspberries, Organic Hass Avocado]                      |[Bag of Organic Bananas]|0.521099116781158 |4.416853618458589 |0.004046978484707604 |\n",
            "|[Organic Navel Orange, Organic Hass Avocado]                     |[Bag of Organic Bananas]|0.5283018867924528|4.477904539027839 |0.0014937999679900007|\n",
            "|[Organic Raspberries, Organic Hass Avocado, Organic Strawberries]|[Bag of Organic Bananas]|0.5984251968503937|5.072272070642333 |0.0017376856770495927|\n",
            "|[Organic Unsweetened Almond Milk, Organic Hass Avocado]          |[Bag of Organic Bananas]|0.5141065830721003|4.357584667849303 |0.0012499142589304088|\n",
            "|[Organic Cucumber, Organic Hass Avocado, Organic Strawberries]   |[Bag of Organic Bananas]|0.546875          |4.635330870478036 |0.0010669999771357147|\n",
            "|[Yellow Onions, Strawberries]                                    |[Banana]                |0.5357142857142857|3.7536332219526702|0.0011432142612168373|\n",
            "+-----------------------------------------------------------------+------------------------+------------------+------------------+---------------------+\n",
            "\n"
          ]
        }
      ]
    },
    {
      "cell_type": "markdown",
      "source": [
        "We ask you to inspect the resulting dataframes, and report a few results. Sort frequent items in descending order by frequency and display 50 rows."
      ],
      "metadata": {
        "id": "jG5_4XvP8UD5"
      }
    },
    {
      "cell_type": "code",
      "metadata": {
        "id": "wEqWxzTCNS87",
        "colab": {
          "base_uri": "https://localhost:8080/"
        },
        "outputId": "9bd6d82e-5862-4709-8727-d955d8a9bc79"
      },
      "source": [
        "# YOUR CODE HERE\n",
        "df_freq.sort(desc(\"freq\")).show(50, truncate=False)"
      ],
      "execution_count": 16,
      "outputs": [
        {
          "output_type": "stream",
          "name": "stdout",
          "text": [
            "+----------------------------------------------+-----+\n",
            "|items                                         |freq |\n",
            "+----------------------------------------------+-----+\n",
            "|[Banana]                                      |18726|\n",
            "|[Bag of Organic Bananas]                      |15480|\n",
            "|[Organic Strawberries]                        |10894|\n",
            "|[Organic Baby Spinach]                        |9784 |\n",
            "|[Large Lemon]                                 |8135 |\n",
            "|[Organic Avocado]                             |7409 |\n",
            "|[Organic Hass Avocado]                        |7293 |\n",
            "|[Strawberries]                                |6494 |\n",
            "|[Limes]                                       |6033 |\n",
            "|[Organic Raspberries]                         |5546 |\n",
            "|[Organic Blueberries]                         |4966 |\n",
            "|[Organic Whole Milk]                          |4908 |\n",
            "|[Organic Cucumber]                            |4613 |\n",
            "|[Organic Zucchini]                            |4589 |\n",
            "|[Organic Yellow Onion]                        |4290 |\n",
            "|[Organic Garlic]                              |4158 |\n",
            "|[Seedless Red Grapes]                         |4059 |\n",
            "|[Asparagus]                                   |3868 |\n",
            "|[Organic Grape Tomatoes]                      |3823 |\n",
            "|[Organic Red Onion]                           |3818 |\n",
            "|[Yellow Onions]                               |3762 |\n",
            "|[Organic Baby Carrots]                        |3597 |\n",
            "|[Honeycrisp Apple]                            |3551 |\n",
            "|[Organic Cilantro]                            |3526 |\n",
            "|[Organic Lemon]                               |3505 |\n",
            "|[Sparkling Water Grapefruit]                  |3359 |\n",
            "|[Raspberries]                                 |3279 |\n",
            "|[Organic Fuji Apple]                          |3257 |\n",
            "|[Small Hass Avocado]                          |3103 |\n",
            "|[Organic Strawberries, Bag of Organic Bananas]|3074 |\n",
            "|[Broccoli Crown]                              |2932 |\n",
            "|[Organic Baby Arugula]                        |2923 |\n",
            "|[Red Peppers]                                 |2905 |\n",
            "|[Organic Large Extra Fancy Fuji Apple]        |2891 |\n",
            "|[Original Hummus]                             |2858 |\n",
            "|[Organic Blackberries]                        |2843 |\n",
            "|[Organic Gala Apples]                         |2809 |\n",
            "|[Fresh Cauliflower]                           |2651 |\n",
            "|[Organic Half & Half]                         |2646 |\n",
            "|[Michigan Organic Kale]                       |2627 |\n",
            "|[Organic Small Bunch Celery]                  |2623 |\n",
            "|[Organic Garnet Sweet Potato (Yam)]           |2568 |\n",
            "|[Organic Tomato Cluster]                      |2538 |\n",
            "|[Green Bell Pepper]                           |2521 |\n",
            "|[Carrots]                                     |2497 |\n",
            "|[Organic Peeled Whole Baby Carrots]           |2460 |\n",
            "|[Half & Half]                                 |2424 |\n",
            "|[Organic Hass Avocado, Bag of Organic Bananas]|2420 |\n",
            "|[Cucumber Kirby]                              |2413 |\n",
            "|[Organic Italian Parsley Bunch]               |2400 |\n",
            "+----------------------------------------------+-----+\n",
            "only showing top 50 rows\n",
            "\n"
          ]
        }
      ]
    },
    {
      "cell_type": "markdown",
      "source": [
        "Also, sort assocation rules in descending order by confidence and display 20 rows."
      ],
      "metadata": {
        "id": "7v-Zz4Lb-Wmp"
      }
    },
    {
      "cell_type": "code",
      "source": [
        "# YOUR CODE HERE\n",
        "df_assoc.sort(desc(\"confidence\")).show(20, truncate=False)"
      ],
      "metadata": {
        "id": "g6nzQ5da-XOg",
        "colab": {
          "base_uri": "https://localhost:8080/"
        },
        "outputId": "edfaef40-db47-4ad1-d2b3-e0caa3ed1dc3"
      },
      "execution_count": 17,
      "outputs": [
        {
          "output_type": "stream",
          "name": "stdout",
          "text": [
            "+-----------------------------------------------------------------+------------------------+------------------+------------------+---------------------+\n",
            "|antecedent                                                       |consequent              |confidence        |lift              |support              |\n",
            "+-----------------------------------------------------------------+------------------------+------------------+------------------+---------------------+\n",
            "|[Organic Raspberries, Organic Hass Avocado, Organic Strawberries]|[Bag of Organic Bananas]|0.5984251968503937|5.072272070642333 |0.0017376856770495927|\n",
            "|[Organic Cucumber, Organic Hass Avocado, Organic Strawberries]   |[Bag of Organic Bananas]|0.546875          |4.635330870478036 |0.0010669999771357147|\n",
            "|[Organic Kiwi, Organic Hass Avocado]                             |[Bag of Organic Bananas]|0.5459770114942529|4.627719489738336 |0.001448071397541327 |\n",
            "|[Organic Navel Orange, Organic Raspberries]                      |[Bag of Organic Bananas]|0.5412186379928315|4.587387356098284 |0.0011508356896249496|\n",
            "|[Yellow Onions, Strawberries]                                    |[Banana]                |0.5357142857142857|3.7536332219526702|0.0011432142612168373|\n",
            "|[Organic Whole String Cheese, Organic Hass Avocado]              |[Bag of Organic Bananas]|0.5314685314685315|4.504745125675359 |0.0011584571180330617|\n",
            "|[Organic Navel Orange, Organic Hass Avocado]                     |[Bag of Organic Bananas]|0.5283018867924528|4.477904539027839 |0.0014937999679900007|\n",
            "|[Organic Raspberries, Organic Hass Avocado]                      |[Bag of Organic Bananas]|0.521099116781158 |4.416853618458589 |0.004046978484707604 |\n",
            "|[Organic D'Anjou Pears, Organic Hass Avocado]                    |[Bag of Organic Bananas]|0.5170454545454546|4.3824946411792345|0.0013870999702764292|\n",
            "|[Organic Unsweetened Almond Milk, Organic Hass Avocado]          |[Bag of Organic Bananas]|0.5141065830721003|4.357584667849303 |0.0012499142589304088|\n",
            "|[Organic Broccoli, Organic Hass Avocado]                         |[Bag of Organic Bananas]|0.5048231511254019|4.278897986822536 |0.001196564260073623 |\n",
            "+-----------------------------------------------------------------+------------------------+------------------+------------------+---------------------+\n",
            "\n"
          ]
        }
      ]
    },
    {
      "cell_type": "markdown",
      "source": [
        "What are your observations by varying support parameters? Answer in 2 sentences."
      ],
      "metadata": {
        "id": "iJwJJo7uVbA_"
      }
    },
    {
      "cell_type": "markdown",
      "source": [
        "As minSupport decreases, the number of association rules found tends to increases. minSupport is a threshold for association rules to identified as \"frequent enough\"."
      ],
      "metadata": {
        "id": "BqCz8qsVVcAj"
      }
    },
    {
      "cell_type": "markdown",
      "source": [
        "Your next task is to develop the **SON Map Reduce algorithm** to compute frequent itemsets by dividing the data into 10 chunks. Assume the *global* support to be:\n",
        "```minsupport=0.001```.\n",
        "\n",
        "Hint:\n",
        "1. To simulate the SON Map Reduce algorithm for frequent itemset mining in Apache Spark, even if the input file is located on a single node, you can divide the file into smaller chunks (partitions) and process each partition as though it were distributed across multiple nodes. Spark will treat these partitions as separate subsets of the data, effectively mimicking how the SON algorithm would work in a true distributed environment.\n",
        "2. The repartition function redistributes the data into the desired number of partitions (use 10 in this case). Example:\n",
        "\n",
        "    ```data_partitioned = data.repartition(10)```\n",
        "\n",
        "The .repartition(10) method repartitions the DataFrame into 10 partitions, but it does not change the underlying structure of data. It remains a Spark DataFrame, just with a different partitioning scheme.\n",
        "\n",
        "3. Apply FP-Growth to each partition without converting to RDD to generate candidates. Get the DataFrame for each partition by using e.g., the filter function(). If you want to apply FP-Growth to each partition while keeping everything within the DataFrame API, you must avoid using RDD-based operations like .rdd.mapPartitions().\n",
        "\n"
      ],
      "metadata": {
        "id": "1w59ZiUjA9xQ"
      }
    },
    {
      "cell_type": "markdown",
      "source": [
        "Perform map and reduce operations using Spark transformations and actions."
      ],
      "metadata": {
        "id": "sg2kS8oSOGDR"
      }
    },
    {
      "cell_type": "markdown",
      "source": [
        " In Phase 1, find candidate itemsets.  "
      ],
      "metadata": {
        "id": "kusexbsXRkbG"
      }
    },
    {
      "cell_type": "code",
      "source": [
        "# YOUR CODE HERE (map and reduce operations)\n",
        "from pyspark.ml.fpm import FPGrowth\n",
        "NUM_PARTITIONS = 10\n",
        "GLOBAL_MIN_SUPPORT = 0.001\n",
        "LOCAL_MIN_SUPPORT = GLOBAL_MIN_SUPPORT/NUM_PARTITIONS\n",
        "\n",
        "data_partitioned = product_order.repartition(NUM_PARTITIONS, \"order_id\")\n",
        "data_partitioned = data_partitioned.withColumn(\"pid\", spark_partition_id())\n",
        "partitions = []\n",
        "candidates = []\n",
        "for pid in range(0,data_partitioned.rdd.getNumPartitions() - 1):\n",
        "  df = data_partitioned.filter(data_partitioned.pid == pid)\n",
        "  df = df.drop(\"pid\")\n",
        "  partitions.append(df)\n",
        "\n",
        "fpGrowth_son = FPGrowth(itemsCol=\"basket\", minSupport=LOCAL_MIN_SUPPORT, minConfidence=0.5)\n",
        "\n",
        "for partition in partitions:\n",
        "  model = fpGrowth_son.fit(partition)\n",
        "  candidates.append(model.freqItemsets)\n"
      ],
      "metadata": {
        "id": "FA6M3XXnDeR4"
      },
      "execution_count": 33,
      "outputs": []
    },
    {
      "cell_type": "markdown",
      "source": [
        "Can Phase 1 cause false negatives? Provide an answer including justification in one sentence."
      ],
      "metadata": {
        "id": "-nQBZo6Ylj2c"
      }
    },
    {
      "cell_type": "markdown",
      "source": [
        "An itemset that belongs to none of the candidates must have frequency less than GLOBAL_MIN_SUPPORT, which means it cannot be false negative at any occasion."
      ],
      "metadata": {
        "id": "-igGxn3RlpCq"
      }
    },
    {
      "cell_type": "markdown",
      "source": [
        "In Phase 2, find true frequent itemsets."
      ],
      "metadata": {
        "id": "RhesJMBlD233"
      }
    },
    {
      "cell_type": "code",
      "source": [
        "# YOUR CODE HERE (map and reduce operations)\n",
        "result = candidates[0]\n",
        "for i in range(1, len(candidates)):\n",
        "  result = result.union(candidates[i])\n",
        "\n",
        "result = result.groupBy(\"items\").agg(sum(\"freq\").alias(\"freq\"))\n",
        "result = result.filter(result.freq >= GLOBAL_MIN_SUPPORT*product_order.count())"
      ],
      "metadata": {
        "id": "oQp_lJiVPXVt"
      },
      "execution_count": 45,
      "outputs": []
    },
    {
      "cell_type": "markdown",
      "source": [
        "What is the benefit of Phase 2? Provide an answer in one sentence."
      ],
      "metadata": {
        "id": "nRtwQ-PGmLXY"
      }
    },
    {
      "cell_type": "markdown",
      "source": [
        "It removes false positive cases."
      ],
      "metadata": {
        "id": "U-Cr_Sh7mNtP"
      }
    },
    {
      "cell_type": "markdown",
      "source": [
        ":Compute and print how many frequent itemsets were generated."
      ],
      "metadata": {
        "id": "R7Bh84jlPXA3"
      }
    },
    {
      "cell_type": "code",
      "source": [
        "# YOUR CODE HERE\n",
        "result.count()"
      ],
      "metadata": {
        "id": "tgPcjympEXi4",
        "colab": {
          "base_uri": "https://localhost:8080/"
        },
        "outputId": "8d95c94e-f6f6-4252-cf21-6ccf6cb69c1b"
      },
      "execution_count": 48,
      "outputs": [
        {
          "output_type": "execute_result",
          "data": {
            "text/plain": [
              "3772"
            ]
          },
          "metadata": {},
          "execution_count": 48
        }
      ]
    },
    {
      "cell_type": "markdown",
      "source": [
        "Sort frequent items in descending order by frequency and display 50 rows."
      ],
      "metadata": {
        "id": "98oARw0ZEc87"
      }
    },
    {
      "cell_type": "code",
      "source": [
        "# YOUR CODE HERE\n",
        "result.sort(desc(\"freq\")).show(50, truncate=False)"
      ],
      "metadata": {
        "id": "Z6jCAuhcEhdJ",
        "colab": {
          "base_uri": "https://localhost:8080/"
        },
        "outputId": "bb8bf700-596b-48cf-de32-1ab24ae57ca4"
      },
      "execution_count": 49,
      "outputs": [
        {
          "output_type": "stream",
          "name": "stdout",
          "text": [
            "+----------------------------------------------+-----+\n",
            "|items                                         |freq |\n",
            "+----------------------------------------------+-----+\n",
            "|[Banana]                                      |16874|\n",
            "|[Bag of Organic Bananas]                      |13923|\n",
            "|[Organic Strawberries]                        |9796 |\n",
            "|[Organic Baby Spinach]                        |8819 |\n",
            "|[Large Lemon]                                 |7352 |\n",
            "|[Organic Avocado]                             |6675 |\n",
            "|[Organic Hass Avocado]                        |6549 |\n",
            "|[Strawberries]                                |5869 |\n",
            "|[Limes]                                       |5410 |\n",
            "|[Organic Raspberries]                         |5038 |\n",
            "|[Organic Blueberries]                         |4469 |\n",
            "|[Organic Whole Milk]                          |4433 |\n",
            "|[Organic Cucumber]                            |4142 |\n",
            "|[Organic Zucchini]                            |4141 |\n",
            "|[Organic Yellow Onion]                        |3873 |\n",
            "|[Organic Garlic]                              |3772 |\n",
            "|[Seedless Red Grapes]                         |3638 |\n",
            "|[Asparagus]                                   |3496 |\n",
            "|[Organic Red Onion]                           |3460 |\n",
            "|[Organic Grape Tomatoes]                      |3424 |\n",
            "|[Yellow Onions]                               |3407 |\n",
            "|[Organic Baby Carrots]                        |3223 |\n",
            "|[Honeycrisp Apple]                            |3189 |\n",
            "|[Organic Cilantro]                            |3185 |\n",
            "|[Organic Lemon]                               |3155 |\n",
            "|[Sparkling Water Grapefruit]                  |3022 |\n",
            "|[Raspberries]                                 |2973 |\n",
            "|[Organic Fuji Apple]                          |2963 |\n",
            "|[Small Hass Avocado]                          |2798 |\n",
            "|[Organic Strawberries, Bag of Organic Bananas]|2750 |\n",
            "|[Organic Baby Arugula]                        |2634 |\n",
            "|[Red Peppers]                                 |2618 |\n",
            "|[Broccoli Crown]                              |2613 |\n",
            "|[Original Hummus]                             |2579 |\n",
            "|[Organic Large Extra Fancy Fuji Apple]        |2576 |\n",
            "|[Organic Blackberries]                        |2546 |\n",
            "|[Organic Gala Apples]                         |2509 |\n",
            "|[Fresh Cauliflower]                           |2393 |\n",
            "|[Organic Half & Half]                         |2376 |\n",
            "|[Organic Small Bunch Celery]                  |2361 |\n",
            "|[Michigan Organic Kale]                       |2358 |\n",
            "|[Organic Garnet Sweet Potato (Yam)]           |2319 |\n",
            "|[Organic Tomato Cluster]                      |2301 |\n",
            "|[Green Bell Pepper]                           |2272 |\n",
            "|[Carrots]                                     |2257 |\n",
            "|[Organic Peeled Whole Baby Carrots]           |2245 |\n",
            "|[Organic Hass Avocado, Bag of Organic Bananas]|2197 |\n",
            "|[Half & Half]                                 |2183 |\n",
            "|[Cucumber Kirby]                              |2168 |\n",
            "|[Organic Italian Parsley Bunch]               |2153 |\n",
            "+----------------------------------------------+-----+\n",
            "only showing top 50 rows\n",
            "\n"
          ]
        }
      ]
    },
    {
      "cell_type": "markdown",
      "source": [
        "Write a paragraph of conclusions below summarizing your insights."
      ],
      "metadata": {
        "id": "B8NzokNgkeQx"
      }
    },
    {
      "cell_type": "markdown",
      "source": [
        "It seems that the SON mapReduce yields the same result as the regular frequent pattern mining. However, due to the nature of SON mapReduce stating that each partition can be distributed to multiple nodes to be processed, the efficiency of SON mapReduce increases if the size of dataset gets bigger.\n",
        ""
      ],
      "metadata": {
        "id": "KhLPDcX5kfAI"
      }
    },
    {
      "cell_type": "markdown",
      "metadata": {
        "id": "2WSXPflUN76-"
      },
      "source": [
        "Once you obtained the desired results, **head over to eClass and submit your solution for this Colab**!"
      ]
    }
  ]
}